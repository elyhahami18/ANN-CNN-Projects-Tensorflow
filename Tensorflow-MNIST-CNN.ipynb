{
 "cells": [
  {
   "cell_type": "markdown",
   "id": "580ba33f-265a-4661-b283-c9cfa8e3f70f",
   "metadata": {},
   "source": [
    "Followed this tutorial: https://www.kaggle.com/code/amyjang/tensorflow-mnist-cnn-tutorial"
   ]
  },
  {
   "cell_type": "code",
   "execution_count": 1,
   "id": "fa81ea0d-6925-42e1-ae90-5aaaa2fdaa17",
   "metadata": {
    "tags": []
   },
   "outputs": [
    {
     "name": "stderr",
     "output_type": "stream",
     "text": [
      "/Users/elyhahami/opt/anaconda3/lib/python3.9/site-packages/scipy/__init__.py:146: UserWarning: A NumPy version >=1.16.5 and <1.23.0 is required for this version of SciPy (detected version 1.25.0\n",
      "  warnings.warn(f\"A NumPy version >={np_minversion} and <{np_maxversion}\"\n"
     ]
    },
    {
     "name": "stdout",
     "output_type": "stream",
     "text": [
      "2.9.1\n"
     ]
    }
   ],
   "source": [
    "import tensorflow as tf\n",
    "import seaborn as sns\n",
    "import numpy as np\n",
    "import pandas as pd\n",
    "import matplotlib.pyplot as plt\n",
    "import matplotlib.image as mpimg\n",
    "\n",
    "print(tf.__version__)"
   ]
  },
  {
   "cell_type": "code",
   "execution_count": 2,
   "id": "51ef25a1-4da4-4cb9-a4f6-60e2eda44e33",
   "metadata": {
    "tags": []
   },
   "outputs": [],
   "source": [
    "from keras.datasets import mnist\n",
    "\n",
    "(ely_x_train, ely_y_train), (ely_x_test, ely_y_test) = mnist.load_data()"
   ]
  },
  {
   "cell_type": "code",
   "execution_count": 7,
   "id": "f53932a7-1abc-45dc-89af-b51cf4ffc2c3",
   "metadata": {
    "tags": []
   },
   "outputs": [
    {
     "data": {
      "text/plain": [
       "(60000, 28, 28)"
      ]
     },
     "execution_count": 7,
     "metadata": {},
     "output_type": "execute_result"
    }
   ],
   "source": [
    "ely_x_train.shape"
   ]
  },
  {
   "cell_type": "code",
   "execution_count": 8,
   "id": "0243cd8a-3ca1-467c-ba0e-ea8c2322a757",
   "metadata": {
    "tags": []
   },
   "outputs": [],
   "source": [
    "input_shape = (28, 28, 1)\n",
    "\n",
    "ely_x_train=ely_x_train.reshape(ely_x_train.shape[0], ely_x_train.shape[1], ely_x_train.shape[2], 1)\n",
    "ely_x_train=ely_x_train / 255.0\n",
    "ely_x_test = ely_x_test.reshape(ely_x_test.shape[0], ely_x_test.shape[1], ely_x_test.shape[2], 1)\n",
    "ely_x_test=ely_x_test/255.0"
   ]
  },
  {
   "cell_type": "code",
   "execution_count": 9,
   "id": "34fccac0-fd15-40ea-b97f-685851442fad",
   "metadata": {
    "tags": []
   },
   "outputs": [
    {
     "data": {
      "text/plain": [
       "(60000, 28, 28, 1)"
      ]
     },
     "execution_count": 9,
     "metadata": {},
     "output_type": "execute_result"
    }
   ],
   "source": [
    "ely_x_train.shape"
   ]
  },
  {
   "cell_type": "code",
   "execution_count": 10,
   "id": "fa267d8c-40ec-4fe3-a77e-ad9514343bf2",
   "metadata": {
    "tags": []
   },
   "outputs": [],
   "source": [
    "ely_y_train = tf.one_hot(ely_y_train.astype(np.int32), depth=10)\n",
    "ely_y_test = tf.one_hot(ely_y_test.astype(np.int32), depth=10)"
   ]
  },
  {
   "cell_type": "code",
   "execution_count": 12,
   "id": "a261bd2e-82f7-42a3-8238-fb88d78b5261",
   "metadata": {
    "tags": []
   },
   "outputs": [
    {
     "name": "stdout",
     "output_type": "stream",
     "text": [
      "tf.Tensor([0. 0. 0. 0. 0. 1. 0. 0. 0. 0.], shape=(10,), dtype=float32)\n"
     ]
    },
    {
     "data": {
      "image/png": "[encoded data removed]",
      "text/plain": [
       "<Figure size 640x480 with 1 Axes>"
      ]
     },
     "metadata": {},
     "output_type": "display_data"
    }
   ],
   "source": [
    "plt.imshow(ely_x_train[100][:,:,0])\n",
    "print(ely_y_train[100])\n",
    "#note the one-hot encoding below"
   ]
  },
  {
   "cell_type": "code",
   "execution_count": 13,
   "id": "34442929-e536-456d-b64b-eb28c0fa2880",
   "metadata": {
    "tags": []
   },
   "outputs": [],
   "source": [
    "batch_size = 64\n",
    "num_classes = 10\n",
    "epochs = 5"
   ]
  },
  {
   "cell_type": "code",
   "execution_count": 14,
   "id": "922b2d18-637a-4cb4-93e1-e627e66ff106",
   "metadata": {
    "tags": []
   },
   "outputs": [],
   "source": [
    "model = tf.keras.models.Sequential([\n",
    "    tf.keras.layers.Conv2D(32, (5,5), padding='same', activation='relu', input_shape=input_shape),\n",
    "    tf.keras.layers.Conv2D(32, (5,5), padding='same', activation='relu'),\n",
    "    tf.keras.layers.MaxPool2D(),\n",
    "    tf.keras.layers.Dropout(0.25),\n",
    "    tf.keras.layers.Conv2D(64, (3,3), padding='same', activation='relu'),\n",
    "    tf.keras.layers.Conv2D(64, (3,3), padding='same', activation='relu'),\n",
    "    tf.keras.layers.MaxPool2D(strides=(2,2)),\n",
    "    tf.keras.layers.Dropout(0.25),\n",
    "    tf.keras.layers.Flatten(),\n",
    "    tf.keras.layers.Dense(128, activation='relu'),\n",
    "    tf.keras.layers.Dropout(0.5),\n",
    "    tf.keras.layers.Dense(num_classes, activation='softmax')\n",
    "])\n",
    "\n",
    "model.compile(optimizer=tf.keras.optimizers.RMSprop(epsilon=1e-08), loss='categorical_crossentropy', metrics=['acc'])"
   ]
  },
  {
   "cell_type": "code",
   "execution_count": null,
   "id": "1cbde856-c0a1-4da5-a442-9ff8d7ddd24a",
   "metadata": {},
   "outputs": [],
   "source": []
  },
  {
   "cell_type": "code",
   "execution_count": 15,
   "id": "7e3c5a96-7d92-405f-9798-c8e40a682e04",
   "metadata": {
    "tags": []
   },
   "outputs": [],
   "source": [
    "class myCallback(tf.keras.callbacks.Callback):\n",
    "  def on_epoch_end(self, epoch, logs={}):\n",
    "    if(logs.get('acc')>0.995):\n",
    "      print(\"\\nReached 99.5% accuracy so cancelling training!\")\n",
    "      self.model.stop_training = True\n",
    "\n",
    "callbacks = myCallback()"
   ]
  },
  {
   "cell_type": "code",
   "execution_count": 17,
   "id": "1c2d1cd2-c8b4-4aa9-903b-111b6314a8aa",
   "metadata": {
    "tags": []
   },
   "outputs": [
    {
     "name": "stdout",
     "output_type": "stream",
     "text": [
      "Epoch 1/5\n",
      "844/844 [==============================] - 23170s 27s/step - loss: 0.2270 - acc: 0.9306 - val_loss: 0.0447 - val_acc: 0.9863\n",
      "Epoch 2/5\n",
      "844/844 [==============================] - 285s 338ms/step - loss: 0.0764 - acc: 0.9780 - val_loss: 0.0381 - val_acc: 0.9905\n",
      "Epoch 3/5\n",
      "844/844 [==============================] - 3002s 4s/step - loss: 0.0574 - acc: 0.9834 - val_loss: 0.0500 - val_acc: 0.9880\n",
      "Epoch 4/5\n",
      "844/844 [==============================] - 1588s 2s/step - loss: 0.0519 - acc: 0.9855 - val_loss: 0.0300 - val_acc: 0.9910\n",
      "Epoch 5/5\n",
      "844/844 [==============================] - 1094s 1s/step - loss: 0.0498 - acc: 0.9865 - val_loss: 0.0378 - val_acc: 0.9910\n"
     ]
    }
   ],
   "source": [
    "history = model.fit(ely_x_train, ely_y_train,\n",
    "                    batch_size=batch_size,\n",
    "                    epochs=epochs,\n",
    "                    validation_split=0.1,\n",
    "                    callbacks=[callbacks])"
   ]
  },
  {
   "cell_type": "code",
   "execution_count": 19,
   "id": "b3a90f3a-60a2-4cb5-93a4-316f42b531f1",
   "metadata": {
    "tags": []
   },
   "outputs": [
    {
     "name": "stdout",
     "output_type": "stream",
     "text": [
      "313/313 [==============================] - 6s 18ms/step - loss: 0.0316 - acc: 0.9909\n",
      "0.9908999800682068\n"
     ]
    }
   ],
   "source": [
    "test_loss, test_acc = model.evaluate(ely_x_test, ely_y_test)\n",
    "print(test_acc)"
   ]
  },
  {
   "cell_type": "code",
   "execution_count": 20,
   "id": "9df3686a-7215-4771-870f-3539b1321cbd",
   "metadata": {
    "tags": []
   },
   "outputs": [
    {
     "name": "stdout",
     "output_type": "stream",
     "text": [
      "313/313 [==============================] - 6s 19ms/step\n"
     ]
    }
   ],
   "source": [
    "Y_pred = model.predict(ely_x_test)\n",
    "# Convert predictions classes to one hot vectors \n",
    "Y_pred_classes = np.argmax(Y_pred,axis = 1) \n",
    "# Convert testing observations to one hot vectors\n",
    "Y_true = np.argmax(ely_y_test,axis = 1)\n",
    "# compute the confusion matrix\n",
    "confusion_mtx = tf.math.confusion_matrix(Y_true, Y_pred_classes) "
   ]
  },
  {
   "cell_type": "code",
   "execution_count": 21,
   "id": "6930c00d-5e64-4c61-a608-c93e6d2c210d",
   "metadata": {
    "tags": []
   },
   "outputs": [
    {
     "data": {
      "text/plain": [
       "<Axes: >"
      ]
     },
     "execution_count": 21,
     "metadata": {},
     "output_type": "execute_result"
    },
    {
     "data": {
      "image/png": "[encoded data removed]",
      "text/plain": [
       "<Figure size 1000x800 with 2 Axes>"
      ]
     },
     "metadata": {},
     "output_type": "display_data"
    }
   ],
   "source": [
    "plt.figure(figsize=(10, 8))\n",
    "sns.heatmap(confusion_mtx, annot=True, fmt='g')"
   ]
  }
 ],
 "metadata": {
  "kernelspec": {
   "display_name": "Python 3 (ipykernel)",
   "language": "python",
   "name": "python3"
  },
  "language_info": {
   "codemirror_mode": {
    "name": "ipython",
    "version": 3
   },
   "file_extension": ".py",
   "mimetype": "text/x-python",
   "name": "python",
   "nbconvert_exporter": "python",
   "pygments_lexer": "ipython3",
   "version": "3.9.16"
  }
 },
 "nbformat": 4,
 "nbformat_minor": 5
}
